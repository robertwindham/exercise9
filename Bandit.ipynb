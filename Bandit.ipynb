{
  "nbformat": 4,
  "nbformat_minor": 0,
  "metadata": {
    "colab": {
      "provenance": [],
      "authorship_tag": "ABX9TyON+2Elx7BKHsG7+a2dLNPN",
      "include_colab_link": true
    },
    "kernelspec": {
      "name": "ir",
      "display_name": "R"
    },
    "language_info": {
      "name": "R"
    }
  },
  "cells": [
    {
      "cell_type": "markdown",
      "metadata": {
        "id": "view-in-github",
        "colab_type": "text"
      },
      "source": [
        "<a href=\"https://colab.research.google.com/github/robertwindham/exercise9/blob/main/Bandit.ipynb\" target=\"_parent\"><img src=\"https://colab.research.google.com/assets/colab-badge.svg\" alt=\"Open In Colab\"/></a>"
      ]
    },
    {
      "cell_type": "code",
      "source": [
        "#Installing packages may take as long as 10min\n",
        "packages<-c(\"leaflet\", \"htmlwidgets\")\n",
        "sapply(packages, install.packages, character.only=TRUE)\n",
        "sapply(packages, require, character.only=TRUE)"
      ],
      "metadata": {
        "colab": {
          "base_uri": "https://localhost:8080/",
          "height": 377
        },
        "id": "boHljtDcDZ73",
        "outputId": "d19c0666-7b27-4ccc-9dee-a782a585fd76"
      },
      "execution_count": null,
      "outputs": [
        {
          "output_type": "stream",
          "name": "stderr",
          "text": [
            "Installing package into ‘/usr/local/lib/R/site-library’\n",
            "(as ‘lib’ is unspecified)\n",
            "\n",
            "also installing the dependencies ‘lazyeval’, ‘Rcpp’, ‘terra’, ‘gridExtra’, ‘crosstalk’, ‘htmlwidgets’, ‘leaflet.providers’, ‘png’, ‘raster’, ‘sp’, ‘viridis’\n",
            "\n",
            "\n",
            "Installing package into ‘/usr/local/lib/R/site-library’\n",
            "(as ‘lib’ is unspecified)\n",
            "\n"
          ]
        },
        {
          "output_type": "display_data",
          "data": {
            "text/html": [
              "<dl>\n",
              "\t<dt>$leaflet</dt>\n",
              "\t\t<dd>NULL</dd>\n",
              "\t<dt>$htmlwidgets</dt>\n",
              "\t\t<dd>NULL</dd>\n",
              "</dl>\n"
            ],
            "text/markdown": "$leaflet\n:   NULL\n$htmlwidgets\n:   NULL\n\n\n",
            "text/latex": "\\begin{description}\n\\item[\\$leaflet] NULL\n\\item[\\$htmlwidgets] NULL\n\\end{description}\n",
            "text/plain": [
              "$leaflet\n",
              "NULL\n",
              "\n",
              "$htmlwidgets\n",
              "NULL\n"
            ]
          },
          "metadata": {}
        },
        {
          "output_type": "stream",
          "name": "stderr",
          "text": [
            "Loading required package: leaflet\n",
            "\n",
            "Loading required package: htmlwidgets\n",
            "\n"
          ]
        },
        {
          "output_type": "display_data",
          "data": {
            "text/html": [
              "<style>\n",
              ".dl-inline {width: auto; margin:0; padding: 0}\n",
              ".dl-inline>dt, .dl-inline>dd {float: none; width: auto; display: inline-block}\n",
              ".dl-inline>dt::after {content: \":\\0020\"; padding-right: .5ex}\n",
              ".dl-inline>dt:not(:first-of-type) {padding-left: .5ex}\n",
              "</style><dl class=dl-inline><dt>leaflet</dt><dd>TRUE</dd><dt>htmlwidgets</dt><dd>TRUE</dd></dl>\n"
            ],
            "text/markdown": "leaflet\n:   TRUEhtmlwidgets\n:   TRUE\n\n",
            "text/latex": "\\begin{description*}\n\\item[leaflet] TRUE\n\\item[htmlwidgets] TRUE\n\\end{description*}\n",
            "text/plain": [
              "    leaflet htmlwidgets \n",
              "       TRUE        TRUE "
            ]
          },
          "metadata": {}
        }
      ]
    },
    {
      "cell_type": "code",
      "source": [
        "#load pre-installed packages\n",
        "library('tidyverse')\n",
        "library('googledrive')"
      ],
      "metadata": {
        "colab": {
          "base_uri": "https://localhost:8080/"
        },
        "id": "4fAFvOunDs6P",
        "outputId": "3d5fb769-ad99-46ca-a464-4686fd4ca326"
      },
      "execution_count": null,
      "outputs": [
        {
          "output_type": "stream",
          "name": "stderr",
          "text": [
            "── \u001b[1mAttaching core tidyverse packages\u001b[22m ──────────────────────── tidyverse 2.0.0 ──\n",
            "\u001b[32m✔\u001b[39m \u001b[34mdplyr    \u001b[39m 1.1.3     \u001b[32m✔\u001b[39m \u001b[34mreadr    \u001b[39m 2.1.4\n",
            "\u001b[32m✔\u001b[39m \u001b[34mforcats  \u001b[39m 1.0.0     \u001b[32m✔\u001b[39m \u001b[34mstringr  \u001b[39m 1.5.0\n",
            "\u001b[32m✔\u001b[39m \u001b[34mggplot2  \u001b[39m 3.4.4     \u001b[32m✔\u001b[39m \u001b[34mtibble   \u001b[39m 3.2.1\n",
            "\u001b[32m✔\u001b[39m \u001b[34mlubridate\u001b[39m 1.9.3     \u001b[32m✔\u001b[39m \u001b[34mtidyr    \u001b[39m 1.3.0\n",
            "\u001b[32m✔\u001b[39m \u001b[34mpurrr    \u001b[39m 1.0.2     \n",
            "── \u001b[1mConflicts\u001b[22m ────────────────────────────────────────── tidyverse_conflicts() ──\n",
            "\u001b[31m✖\u001b[39m \u001b[34mdplyr\u001b[39m::\u001b[32mfilter()\u001b[39m masks \u001b[34mstats\u001b[39m::filter()\n",
            "\u001b[31m✖\u001b[39m \u001b[34mdplyr\u001b[39m::\u001b[32mlag()\u001b[39m    masks \u001b[34mstats\u001b[39m::lag()\n",
            "\u001b[36mℹ\u001b[39m Use the conflicted package (\u001b[3m\u001b[34m<http://conflicted.r-lib.org/>\u001b[39m\u001b[23m) to force all conflicts to become errors\n"
          ]
        }
      ]
    },
    {
      "cell_type": "code",
      "source": [
        "#google sheet to csv\n",
        "drive_deauth()\n",
        "drive_download(as_id(\"1SSGJwccBTFyeY6PnIlhxLjsBPjzEh7ebntTm4XHTDGA\"), overwrite = TRUE, type = \"csv\")\n",
        "bandit <- as.data.frame(read.csv(\"Bandit (Responses).csv\"))"
      ],
      "metadata": {
        "colab": {
          "base_uri": "https://localhost:8080/"
        },
        "id": "sHZXcf8aPw7V",
        "outputId": "fc00e9b6-44cc-4c1c-9a35-e99fcd180a30"
      },
      "execution_count": null,
      "outputs": [
        {
          "output_type": "stream",
          "name": "stderr",
          "text": [
            "File downloaded:\n",
            "\n",
            "• '\u001b[36mBandit (Responses)\u001b[39m' \u001b[90m<id: 1SSGJwccBTFyeY6PnIlhxLjsBPjzEh7ebntTm4XHTDGA>\u001b[39m\n",
            "\n",
            "Saved locally as:\n",
            "\n",
            "• \u001b[34mBandit (Responses).csv\u001b[39m\n",
            "\n"
          ]
        }
      ]
    },
    {
      "cell_type": "markdown",
      "source": [
        "Had to make all my datasets a dataframe because I kept getting the error \"$ operator is invalid for atomic vectors\""
      ],
      "metadata": {
        "id": "zPCldDmXbJQm"
      }
    },
    {
      "cell_type": "code",
      "source": [
        "bandit2 <- bandit %>%\n",
        "  filter(Pee == \"Yes\") %>%\n",
        "  filter(Reallypee == \"Yes\")\n",
        "\n",
        "bandit2 <- as.data.frame(bandit2)\n"
      ],
      "metadata": {
        "id": "-67crrElP5oB"
      },
      "execution_count": null,
      "outputs": []
    },
    {
      "cell_type": "code",
      "source": [
        "bandit3 <- bandit %>%\n",
        "  filter(Poop == \"Yes\")\n",
        "\n",
        "bandit3 <- as.data.frame(bandit3)\n"
      ],
      "metadata": {
        "id": "oRhBcJQaQQQd"
      },
      "execution_count": null,
      "outputs": []
    },
    {
      "cell_type": "code",
      "source": [
        "bandit4 <- bandit %>%\n",
        "  filter(Pee == \"Yes\") %>%\n",
        "  filter(Reallypee == \"No\")\n",
        "\n",
        "bandit4 <- as.data.frame(bandit4)\n"
      ],
      "metadata": {
        "id": "qQfC1CgXQfMC"
      },
      "execution_count": null,
      "outputs": []
    },
    {
      "cell_type": "code",
      "source": [
        "bandit5 <- bandit %>%\n",
        "  filter(Pee == \"Yes\") %>%\n",
        "  filter(lickpee == \"Yes\")\n",
        "\n",
        "bandit5 <- as.data.frame(bandit5)\n"
      ],
      "metadata": {
        "id": "o71gJ9kGQfmn"
      },
      "execution_count": null,
      "outputs": []
    },
    {
      "cell_type": "markdown",
      "source": [],
      "metadata": {
        "id": "mNUFD89cbWTz"
      }
    },
    {
      "cell_type": "code",
      "source": [
        "#leaflet - needs to be downloaded and opened in a browser\n",
        "html <- leaflet() %>%\n",
        "  addTiles(group = \"OSM\")%>%\n",
        "  addProviderTiles(providers$CartoDB.Positron, group = \"CartoDB\") %>%\n",
        "  addProviderTiles(providers$Esri.NatGeoWorldMap, group = \"NatGeo\") %>%\n",
        "  addProviderTiles(providers$Esri.WorldImagery, group = \"ESRI\") %>%\n",
        "  setView(lng = -86.973274, lat = 36.063037, zoom = 16) %>%\n",
        "  addCircleMarkers(popup = bandit2$Pee.length,\n",
        "label = bandit2$onwhat,\n",
        "radius = (bandit2$Pee.length)*10,\n",
        "lng = bandit2$Longitude,\n",
        "lat = bandit2$Latitude,\n",
        "color = \"yellow\",\n",
        "fillColor = \"yellow\",\n",
        "fillOpacity = 0.7,\n",
        "group = \"He really peed\",\n",
        "labelOptions = labelOptions(noHide = T, textOnly = TRUE)) %>%\n",
        "  addCircleMarkers(popup = bandit4$Pee.length,\n",
        "label = bandit4$onwhat,\n",
        "radius = (bandit4$Pee.length)*10,\n",
        "lng = bandit4$Longitude,\n",
        "lat = bandit4$Latitude,\n",
        "color = \"black\",\n",
        "fillColor = \"black\",\n",
        "fillOpacity = .7,\n",
        "group = \"Nothing came out\",\n",
        "labelOptions = labelOptions(noHide = T, direction = \"bottom\",\n",
        "offset =c(0,-40), textOnly = TRUE)) %>%\n",
        "  addCircleMarkers(popup = bandit5$Pee.length,\n",
        "label = bandit5$onwhat,\n",
        "lng = bandit5$Longitude,\n",
        "lat = bandit5$Latitude,\n",
        "color = \"green\",\n",
        "fillColor = \"green\",\n",
        "fillOpacity = .7,\n",
        "group = \"Licked pee beforehand\",\n",
        "labelOptions = labelOptions(noHide = T, textOnly = TRUE)) %>%\n",
        "  addCircleMarkers(popup = bandit3$Poop.length,\n",
        "label = bandit3$onwhat,\n",
        "lng = bandit3$Longitude,\n",
        "lat = bandit3$Latitude,\n",
        "color = \"brown\",\n",
        "fillColor = \"brown\",\n",
        "fillOpacity = .7,\n",
        "group = \"Poo spots\",\n",
        "labelOptions = labelOptions(noHide = T, textOnly = TRUE)) %>%\n",
        "  addLayersControl(\n",
        "  baseGroups = c(\"OSM\", \"CartoDB\", \"NatGeo\", \"ESRI\"),\n",
        "  overlayGroups = c(\"He really peed\",\"Nothing came out\",\"Licked pee beforehand\",\"Poo spots\"),\n",
        "  options = layersControlOptions(collapsed = FALSE)) %>%\n",
        "    addMiniMap(zoomLevelOffset = -4)\n",
        "  saveWidget(html, file = \"biol_5660_demo.html\")\n"
      ],
      "metadata": {
        "id": "h9tc62l0H8RR"
      },
      "execution_count": null,
      "outputs": []
    },
    {
      "cell_type": "code",
      "source": [],
      "metadata": {
        "id": "bBWN9iKuqZyj"
      },
      "execution_count": null,
      "outputs": []
    }
  ]
}